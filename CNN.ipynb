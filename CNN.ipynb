{
  "cells": [
    {
      "cell_type": "markdown",
      "metadata": {
        "id": "lGzve030wLnI"
      },
      "source": [
        "Tensorflow built in cifar has 50,000 in train data and 10,000 in test.\n",
        "\n",
        "I will split it into 30,000 train, 20,000 val, 10,000 test"
      ]
    },
    {
      "cell_type": "code",
      "execution_count": 4,
      "metadata": {
        "colab": {
          "base_uri": "https://localhost:8080/"
        },
        "id": "Gia4xQtZxluS",
        "outputId": "f24149ca-bd42-40f5-d71e-7ce27a0a1cb6"
      },
      "outputs": [
        {
          "name": "stdout",
          "output_type": "stream",
          "text": [
            "(50000, 32, 32, 3)\n"
          ]
        }
      ],
      "source": [
        "import tensorflow as tf\n",
        "from tensorflow.keras import datasets, layers, models\n",
        "import matplotlib.pyplot as plt\n",
        "from keras import regularizers\n",
        "\n",
        "(X_train_full, y_train_full), (X_test, y_test) = datasets.cifar10.load_data()\n",
        "\n",
        "print(X_train_full.shape)\n",
        "\n",
        "class_names = ['airplane', 'automobile', 'bird', 'cat', 'deer', 'dog', 'frog', 'horse', 'ship', 'truck']\n",
        "\n",
        "X_val, X_train = X_train_full[:20000] / 255.0, X_train_full[20000:] / 255.0\n",
        "y_val, y_train = y_train_full[:20000], y_train_full[20000:]\n",
        "X_test = X_test / 255.0"
      ]
    },
    {
      "cell_type": "markdown",
      "metadata": {
        "id": "UNRam7fXwJPE"
      },
      "source": [
        "Double check if the split was done correctly"
      ]
    },
    {
      "cell_type": "code",
      "execution_count": 11,
      "metadata": {
        "colab": {
          "base_uri": "https://localhost:8080/"
        },
        "id": "DFSpx4WMmFHz",
        "outputId": "a8f0b0fc-f977-4adf-d843-93296eb69c17"
      },
      "outputs": [
        {
          "name": "stdout",
          "output_type": "stream",
          "text": [
            "(30000, 32, 32, 3)\n",
            "(20000, 32, 32, 3)\n",
            "(10000, 32, 32, 3)\n",
            "(30000, 1)\n",
            "(20000, 1)\n",
            "(10000, 1)\n"
          ]
        }
      ],
      "source": [
        "print(X_train.shape)\n",
        "print(X_val.shape)\n",
        "print(X_test.shape)\n",
        "\n",
        "print(y_train.shape)\n",
        "print(y_val.shape)\n",
        "print(y_test.shape)"
      ]
    },
    {
      "cell_type": "markdown",
      "metadata": {
        "id": "Rk8_bL4CwZoO"
      },
      "source": [
        "Create a function to show you the picture and what label it is"
      ]
    },
    {
      "cell_type": "code",
      "execution_count": 12,
      "metadata": {
        "colab": {
          "base_uri": "https://localhost:8080/",
          "height": 447
        },
        "id": "8NuLn8uLm6Qp",
        "outputId": "b780e8ac-617d-4425-9a88-6b0a9c9dfff8"
      },
      "outputs": [
        {
          "name": "stdout",
          "output_type": "stream",
          "text": [
            "Label: dog\n"
          ]
        },
        {
          "data": {
            "image/png": "[encoded data removed]",
            "text/plain": [
              "<Figure size 640x480 with 1 Axes>"
            ]
          },
          "metadata": {},
          "output_type": "display_data"
        }
      ],
      "source": [
        "def show_image(X_data,y_data,index):\n",
        "    plt.imshow(X_data[index], cmap='gray')\n",
        "    print(\"Label:\",class_names[y_data[index][0]])\n",
        "\n",
        "show_image(X_train,y_train, 1)"
      ]
    },
    {
      "cell_type": "markdown",
      "metadata": {
        "id": "hoyzQC0dwgEc"
      },
      "source": [
        "Get the dimensions of the pictures"
      ]
    },
    {
      "cell_type": "code",
      "execution_count": 13,
      "metadata": {
        "colab": {
          "base_uri": "https://localhost:8080/"
        },
        "id": "nZiZ-fafm-BE",
        "outputId": "21e28b21-e78d-4fa1-ee1e-2702f3694428"
      },
      "outputs": [
        {
          "data": {
            "text/plain": [
              "(32, 32, 3)"
            ]
          },
          "execution_count": 13,
          "metadata": {},
          "output_type": "execute_result"
        }
      ],
      "source": [
        "X_train[0].shape"
      ]
    },
    {
      "cell_type": "markdown",
      "metadata": {
        "id": "bpk4NaLqwn9T"
      },
      "source": [
        "Creating our CNN to compare our mutual learning technique"
      ]
    },
    {
      "cell_type": "code",
      "execution_count": 14,
      "metadata": {
        "colab": {
          "base_uri": "https://localhost:8080/"
        },
        "id": "EyCtw6JgnFOF",
        "outputId": "2716014d-e564-4d37-ff6d-f69bd4bc8a10"
      },
      "outputs": [
        {
          "name": "stdout",
          "output_type": "stream",
          "text": [
            "Model: \"sequential_1\"\n",
            "_________________________________________________________________\n",
            " Layer (type)                Output Shape              Param #   \n",
            "=================================================================\n",
            " conv2d_3 (Conv2D)           (None, 32, 32, 64)        9472      \n",
            "                                                                 \n",
            " max_pooling2d_2 (MaxPooling  (None, 16, 16, 64)       0         \n",
            " 2D)                                                             \n",
            "                                                                 \n",
            " batch_normalization_4 (Batc  (None, 16, 16, 64)       256       \n",
            " hNormalization)                                                 \n",
            "                                                                 \n",
            " conv2d_4 (Conv2D)           (None, 16, 16, 128)       73856     \n",
            "                                                                 \n",
            " dropout_4 (Dropout)         (None, 16, 16, 128)       0         \n",
            "                                                                 \n",
            " max_pooling2d_3 (MaxPooling  (None, 8, 8, 128)        0         \n",
            " 2D)                                                             \n",
            "                                                                 \n",
            " batch_normalization_5 (Batc  (None, 8, 8, 128)        512       \n",
            " hNormalization)                                                 \n",
            "                                                                 \n",
            " conv2d_5 (Conv2D)           (None, 8, 8, 256)         1605888   \n",
            "                                                                 \n",
            " dropout_5 (Dropout)         (None, 8, 8, 256)         0         \n",
            "                                                                 \n",
            " flatten_1 (Flatten)         (None, 16384)             0         \n",
            "                                                                 \n",
            " batch_normalization_6 (Batc  (None, 16384)            65536     \n",
            " hNormalization)                                                 \n",
            "                                                                 \n",
            " dense_3 (Dense)             (None, 128)               2097280   \n",
            "                                                                 \n",
            " dropout_6 (Dropout)         (None, 128)               0         \n",
            "                                                                 \n",
            " batch_normalization_7 (Batc  (None, 128)              512       \n",
            " hNormalization)                                                 \n",
            "                                                                 \n",
            " dense_4 (Dense)             (None, 64)                8256      \n",
            "                                                                 \n",
            " dropout_7 (Dropout)         (None, 64)                0         \n",
            "                                                                 \n",
            " dense_5 (Dense)             (None, 10)                650       \n",
            "                                                                 \n",
            "=================================================================\n",
            "Total params: 3,862,218\n",
            "Trainable params: 3,828,810\n",
            "Non-trainable params: 33,408\n",
            "_________________________________________________________________\n"
          ]
        }
      ],
      "source": [
        "model = tf.keras.models.Sequential([\n",
        "\n",
        "    tf.keras.layers.Conv2D(64, 7, padding=\"same\", activation='relu', input_shape=[32,32,3]),\n",
        "\n",
        "    tf.keras.layers.MaxPooling2D(2),\n",
        "\n",
        "    tf.keras.layers.BatchNormalization(),\n",
        "    tf.keras.layers.Conv2D(128, 3, padding=\"same\", activation='relu' , kernel_regularizer=regularizers.l1(0.0001)),\n",
        "    tf.keras.layers.Dropout(.2),\n",
        "\n",
        "    tf.keras.layers.MaxPooling2D(2),\n",
        "\n",
        "    tf.keras.layers.BatchNormalization(),\n",
        "    tf.keras.layers.Conv2D(256, 7, padding=\"same\", activation='relu' , kernel_regularizer=regularizers.l1(0.0001)),\n",
        "    tf.keras.layers.Dropout(.2),\n",
        "\n",
        "    tf.keras.layers.Flatten(),\n",
        "\n",
        "    tf.keras.layers.BatchNormalization(),\n",
        "    tf.keras.layers.Dense(128, activation='relu' , kernel_regularizer=regularizers.l1(0.0001)),\n",
        "    tf.keras.layers.Dropout(.2),\n",
        "\n",
        "    tf.keras.layers.BatchNormalization(),\n",
        "    tf.keras.layers.Dense(64, activation='relu' , kernel_regularizer=regularizers.l1(0.0001)),\n",
        "    tf.keras.layers.Dropout(.2),\n",
        "\n",
        "    tf.keras.layers.Dense(10, activation='softmax')\n",
        "])\n",
        "model.summary()"
      ]
    },
    {
      "cell_type": "code",
      "execution_count": 15,
      "metadata": {
        "id": "mfzSxG_9nJds"
      },
      "outputs": [],
      "source": [
        "tf.random.set_seed(1)\n",
        "\n",
        "callback = tf.keras.callbacks.EarlyStopping(monitor='val_loss', patience = 5)\n",
        "model.compile(loss='sparse_categorical_crossentropy', optimizer='adam', metrics=['accuracy'])"
      ]
    },
    {
      "cell_type": "code",
      "execution_count": 16,
      "metadata": {
        "colab": {
          "base_uri": "https://localhost:8080/"
        },
        "id": "jksrEh5bnIGZ",
        "outputId": "9e46e968-6ef2-49f8-f058-d567774885d2"
      },
      "outputs": [
        {
          "name": "stdout",
          "output_type": "stream",
          "text": [
            "Epoch 1/100\n",
            "469/469 [==============================] - 11s 21ms/step - loss: 4.0054 - accuracy: 0.4113 - val_loss: 3.4446 - val_accuracy: 0.3820\n",
            "Epoch 2/100\n",
            "469/469 [==============================] - 9s 20ms/step - loss: 3.0579 - accuracy: 0.5159 - val_loss: 3.1444 - val_accuracy: 0.4969\n",
            "Epoch 3/100\n",
            "469/469 [==============================] - 8s 18ms/step - loss: 3.0440 - accuracy: 0.5683 - val_loss: 3.0990 - val_accuracy: 0.5856\n",
            "Epoch 4/100\n",
            "469/469 [==============================] - 9s 18ms/step - loss: 3.1038 - accuracy: 0.6030 - val_loss: 3.5923 - val_accuracy: 0.4445\n",
            "Epoch 5/100\n",
            "469/469 [==============================] - 9s 18ms/step - loss: 3.1098 - accuracy: 0.6282 - val_loss: 3.3369 - val_accuracy: 0.5397\n",
            "Epoch 6/100\n",
            "469/469 [==============================] - 9s 18ms/step - loss: 3.1048 - accuracy: 0.6417 - val_loss: 3.6850 - val_accuracy: 0.4716\n",
            "Epoch 7/100\n",
            "469/469 [==============================] - 9s 18ms/step - loss: 3.0701 - accuracy: 0.6596 - val_loss: 3.0375 - val_accuracy: 0.6503\n",
            "Epoch 8/100\n",
            "469/469 [==============================] - 8s 18ms/step - loss: 3.0608 - accuracy: 0.6734 - val_loss: 3.2243 - val_accuracy: 0.6052\n",
            "Epoch 9/100\n",
            "469/469 [==============================] - 9s 18ms/step - loss: 2.9577 - accuracy: 0.6880 - val_loss: 3.0875 - val_accuracy: 0.6252\n",
            "Epoch 10/100\n",
            "469/469 [==============================] - 9s 18ms/step - loss: 2.9022 - accuracy: 0.6952 - val_loss: 3.2587 - val_accuracy: 0.5639\n",
            "Epoch 11/100\n",
            "469/469 [==============================] - 9s 18ms/step - loss: 2.8164 - accuracy: 0.7088 - val_loss: 2.9933 - val_accuracy: 0.6363\n",
            "Epoch 12/100\n",
            "469/469 [==============================] - 9s 20ms/step - loss: 2.7583 - accuracy: 0.7158 - val_loss: 2.9933 - val_accuracy: 0.6186\n",
            "Epoch 13/100\n",
            "469/469 [==============================] - 9s 20ms/step - loss: 2.6907 - accuracy: 0.7293 - val_loss: 2.7426 - val_accuracy: 0.6719\n",
            "Epoch 14/100\n",
            "469/469 [==============================] - 9s 20ms/step - loss: 2.6059 - accuracy: 0.7357 - val_loss: 2.8397 - val_accuracy: 0.6390\n",
            "Epoch 15/100\n",
            "469/469 [==============================] - 9s 20ms/step - loss: 2.5666 - accuracy: 0.7386 - val_loss: 2.9190 - val_accuracy: 0.6029\n",
            "Epoch 16/100\n",
            "469/469 [==============================] - 9s 20ms/step - loss: 2.5204 - accuracy: 0.7463 - val_loss: 2.6635 - val_accuracy: 0.7049\n",
            "Epoch 17/100\n",
            "469/469 [==============================] - 9s 20ms/step - loss: 2.5090 - accuracy: 0.7510 - val_loss: 2.5778 - val_accuracy: 0.7031\n",
            "Epoch 18/100\n",
            "469/469 [==============================] - 10s 22ms/step - loss: 2.4105 - accuracy: 0.7591 - val_loss: 2.7029 - val_accuracy: 0.6568\n",
            "Epoch 19/100\n",
            "469/469 [==============================] - 10s 22ms/step - loss: 2.3742 - accuracy: 0.7605 - val_loss: 2.7265 - val_accuracy: 0.6246\n",
            "Epoch 20/100\n",
            "469/469 [==============================] - 10s 22ms/step - loss: 2.3003 - accuracy: 0.7649 - val_loss: 2.5078 - val_accuracy: 0.6823\n",
            "Epoch 21/100\n",
            "469/469 [==============================] - 10s 21ms/step - loss: 2.3012 - accuracy: 0.7696 - val_loss: 2.5711 - val_accuracy: 0.6777\n",
            "Epoch 22/100\n",
            "469/469 [==============================] - 10s 21ms/step - loss: 2.2875 - accuracy: 0.7727 - val_loss: 2.5637 - val_accuracy: 0.6586\n",
            "Epoch 23/100\n",
            "469/469 [==============================] - 10s 20ms/step - loss: 2.2075 - accuracy: 0.7843 - val_loss: 2.4522 - val_accuracy: 0.6858\n",
            "Epoch 24/100\n",
            "469/469 [==============================] - 10s 22ms/step - loss: 2.1611 - accuracy: 0.7864 - val_loss: 2.3755 - val_accuracy: 0.7057\n",
            "Epoch 25/100\n",
            "469/469 [==============================] - 10s 21ms/step - loss: 2.1424 - accuracy: 0.7885 - val_loss: 2.7136 - val_accuracy: 0.6162\n",
            "Epoch 26/100\n",
            "469/469 [==============================] - 10s 22ms/step - loss: 2.1330 - accuracy: 0.7896 - val_loss: 2.5627 - val_accuracy: 0.6453\n",
            "Epoch 27/100\n",
            "469/469 [==============================] - 10s 20ms/step - loss: 2.1186 - accuracy: 0.7887 - val_loss: 2.6723 - val_accuracy: 0.6064\n",
            "Epoch 28/100\n",
            "469/469 [==============================] - 9s 20ms/step - loss: 2.0626 - accuracy: 0.7951 - val_loss: 2.3064 - val_accuracy: 0.7196\n",
            "Epoch 29/100\n",
            "469/469 [==============================] - 9s 20ms/step - loss: 2.0520 - accuracy: 0.8001 - val_loss: 2.2629 - val_accuracy: 0.7283\n",
            "Epoch 30/100\n",
            "469/469 [==============================] - 9s 20ms/step - loss: 2.0310 - accuracy: 0.8001 - val_loss: 2.2129 - val_accuracy: 0.7382\n",
            "Epoch 31/100\n",
            "469/469 [==============================] - 9s 20ms/step - loss: 1.9937 - accuracy: 0.8044 - val_loss: 2.8765 - val_accuracy: 0.5820\n",
            "Epoch 32/100\n",
            "469/469 [==============================] - 9s 20ms/step - loss: 1.9510 - accuracy: 0.8098 - val_loss: 2.2674 - val_accuracy: 0.6981\n",
            "Epoch 33/100\n",
            "469/469 [==============================] - 9s 20ms/step - loss: 1.9398 - accuracy: 0.8022 - val_loss: 2.5454 - val_accuracy: 0.6309\n",
            "Epoch 34/100\n",
            "469/469 [==============================] - 9s 20ms/step - loss: 1.9316 - accuracy: 0.8099 - val_loss: 2.1499 - val_accuracy: 0.7315\n",
            "Epoch 35/100\n",
            "469/469 [==============================] - 9s 20ms/step - loss: 1.8890 - accuracy: 0.8167 - val_loss: 2.2304 - val_accuracy: 0.7021\n",
            "Epoch 36/100\n",
            "469/469 [==============================] - 9s 20ms/step - loss: 1.8894 - accuracy: 0.8157 - val_loss: 2.2206 - val_accuracy: 0.7070\n",
            "Epoch 37/100\n",
            "469/469 [==============================] - 9s 20ms/step - loss: 1.8674 - accuracy: 0.8152 - val_loss: 2.2303 - val_accuracy: 0.6979\n",
            "Epoch 38/100\n",
            "469/469 [==============================] - 9s 20ms/step - loss: 1.8455 - accuracy: 0.8197 - val_loss: 2.2347 - val_accuracy: 0.6887\n",
            "Epoch 39/100\n",
            "469/469 [==============================] - 9s 20ms/step - loss: 1.8280 - accuracy: 0.8208 - val_loss: 2.2172 - val_accuracy: 0.6987\n"
          ]
        },
        {
          "data": {
            "text/plain": [
              "<keras.callbacks.History at 0x1f1150187f0>"
            ]
          },
          "execution_count": 16,
          "metadata": {},
          "output_type": "execute_result"
        }
      ],
      "source": [
        "model.fit(X_train, y_train, epochs=100, validation_data=(X_val, y_val), batch_size=64, callbacks= [callback])"
      ]
    },
    {
      "cell_type": "markdown",
      "metadata": {},
      "source": [
        "Once tuning is finished, evaluate on testing set."
      ]
    },
    {
      "cell_type": "code",
      "execution_count": 17,
      "metadata": {},
      "outputs": [
        {
          "name": "stdout",
          "output_type": "stream",
          "text": [
            "313/313 [==============================] - 2s 5ms/step - loss: 2.2078 - accuracy: 0.7029\n"
          ]
        },
        {
          "data": {
            "text/plain": [
              "[2.2078263759613037, 0.7028999924659729]"
            ]
          },
          "execution_count": 17,
          "metadata": {},
          "output_type": "execute_result"
        }
      ],
      "source": [
        "model.evaluate(X_test,y_test)"
      ]
    },
    {
      "cell_type": "code",
      "execution_count": 18,
      "metadata": {},
      "outputs": [],
      "source": [
        "model.save('CNN.h5')"
      ]
    }
  ],
  "metadata": {
    "accelerator": "GPU",
    "colab": {
      "gpuType": "T4",
      "provenance": []
    },
    "kernelspec": {
      "display_name": "Python 3",
      "name": "python3"
    },
    "language_info": {
      "codemirror_mode": {
        "name": "ipython",
        "version": 3
      },
      "file_extension": ".py",
      "mimetype": "text/x-python",
      "name": "python",
      "nbconvert_exporter": "python",
      "pygments_lexer": "ipython3",
      "version": "3.9.18"
    }
  },
  "nbformat": 4,
  "nbformat_minor": 0
}
